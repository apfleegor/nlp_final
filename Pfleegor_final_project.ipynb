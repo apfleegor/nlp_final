{
  "nbformat": 4,
  "nbformat_minor": 0,
  "metadata": {
    "colab": {
      "name": "Pfleegor_final_project.ipynb",
      "provenance": []
    },
    "kernelspec": {
      "name": "python3",
      "display_name": "Python 3"
    },
    "language_info": {
      "name": "python"
    }
  },
  "cells": [
    {
      "cell_type": "code",
      "metadata": {
        "colab": {
          "base_uri": "https://localhost:8080/"
        },
        "id": "h8sJ4PqlUDu4",
        "outputId": "60d51f46-24bc-4815-dca7-4c45ba64ff1b"
      },
      "source": [
        "from google.colab import drive\n",
        "drive.mount('/content/gdrive')"
      ],
      "execution_count": null,
      "outputs": [
        {
          "output_type": "stream",
          "name": "stdout",
          "text": [
            "Mounted at /content/gdrive\n"
          ]
        }
      ]
    },
    {
      "cell_type": "markdown",
      "metadata": {
        "id": "PnvJZP69UVv2"
      },
      "source": [
        "**importing important libraries**"
      ]
    },
    {
      "cell_type": "code",
      "metadata": {
        "id": "oR5vUq20URvc"
      },
      "source": [
        "import os\n",
        "import pandas as pd\n",
        "import numpy as np\n",
        "import matplotlib.pyplot as plt\n",
        "% matplotlib inline\n",
        "import re\n",
        "from os import path\n",
        "from PIL import Image\n",
        "from wordcloud import WordCloud\n",
        "import string\n",
        "from sklearn.feature_extraction.text import TfidfVectorizer\n",
        "from sklearn.metrics.pairwise import cosine_similarity\n",
        "import spacy"
      ],
      "execution_count": null,
      "outputs": []
    },
    {
      "cell_type": "code",
      "metadata": {
        "id": "-J9YGEWiUSwI"
      },
      "source": [
        "# importing nltk related packages\n",
        "import nltk\n",
        "from nltk import word_tokenize, pos_tag, ne_chunk\n",
        "from nltk.stem.porter import PorterStemmer\n",
        "from nltk.corpus import stopwords\n",
        "from nltk.stem import WordNetLemmatizer"
      ],
      "execution_count": null,
      "outputs": []
    },
    {
      "cell_type": "code",
      "metadata": {
        "colab": {
          "base_uri": "https://localhost:8080/"
        },
        "id": "Z_IcU2fFUT0h",
        "outputId": "7f6d2421-c1dc-4675-9a0f-20711bb4ee75"
      },
      "source": [
        "nltk.download(\"punkt\")\n",
        "nltk.download(\"stopwords\")\n",
        "nltk.download('averaged_perceptron_tagger')\n",
        "nltk.download('maxent_ne_chunker')\n",
        "nltk.download('words')\n",
        "nltk.download('treebank')"
      ],
      "execution_count": null,
      "outputs": [
        {
          "output_type": "stream",
          "name": "stdout",
          "text": [
            "[nltk_data] Downloading package punkt to /root/nltk_data...\n",
            "[nltk_data]   Unzipping tokenizers/punkt.zip.\n",
            "[nltk_data] Downloading package stopwords to /root/nltk_data...\n",
            "[nltk_data]   Unzipping corpora/stopwords.zip.\n",
            "[nltk_data] Downloading package averaged_perceptron_tagger to\n",
            "[nltk_data]     /root/nltk_data...\n",
            "[nltk_data]   Unzipping taggers/averaged_perceptron_tagger.zip.\n",
            "[nltk_data] Downloading package maxent_ne_chunker to\n",
            "[nltk_data]     /root/nltk_data...\n",
            "[nltk_data]   Unzipping chunkers/maxent_ne_chunker.zip.\n",
            "[nltk_data] Downloading package words to /root/nltk_data...\n",
            "[nltk_data]   Unzipping corpora/words.zip.\n",
            "[nltk_data] Downloading package treebank to /root/nltk_data...\n",
            "[nltk_data]   Unzipping corpora/treebank.zip.\n"
          ]
        },
        {
          "output_type": "execute_result",
          "data": {
            "text/plain": [
              "True"
            ]
          },
          "metadata": {},
          "execution_count": 4
        }
      ]
    },
    {
      "cell_type": "markdown",
      "metadata": {
        "id": "nVD49DvLUZ31"
      },
      "source": [
        "**importing data**"
      ]
    },
    {
      "cell_type": "markdown",
      "metadata": {
        "id": "qj3-oKxO8LCq"
      },
      "source": [
        "note: make sure to change the file path for different users"
      ]
    },
    {
      "cell_type": "code",
      "metadata": {
        "id": "dGO3OL0fUc_4"
      },
      "source": [
        "disney_filepath = '/content/gdrive/MyDrive/Fall 2021/CS 331/Final Project/data/disney_data.json'\n",
        "\n",
        "disney = pd.read_json(disney_filepath, lines=True)"
      ],
      "execution_count": null,
      "outputs": []
    },
    {
      "cell_type": "code",
      "metadata": {
        "id": "SJEPnEee8KIb"
      },
      "source": [
        "marvel_filepath = '/content/gdrive/MyDrive/Fall 2021/CS 331/Final Project/data/marvel_data2.json'\n",
        "\n",
        "marvel = pd.read_json(marvel_filepath, lines=True)"
      ],
      "execution_count": null,
      "outputs": []
    },
    {
      "cell_type": "markdown",
      "metadata": {
        "id": "acxyc9tiUfqK"
      },
      "source": [
        "**named entity recognition**"
      ]
    },
    {
      "cell_type": "code",
      "metadata": {
        "id": "alQ6gaiSUjQV"
      },
      "source": [
        "# model that extracts named entities from the plots of movies\n",
        "# example: for the plot of finding nemo, we would expect Dory, Marlin and Nemo to be some of the outputs of this model\n",
        "\n",
        "def ner_model(sentence):\n",
        "  entities = []\n",
        "\n",
        "  for sent in nltk.sent_tokenize(sentence):\n",
        "    for chunk in nltk.ne_chunk(nltk.pos_tag(nltk.word_tokenize(sent))):\n",
        "\n",
        "      if hasattr(chunk, 'label'):\n",
        "        string = ' '.join(c[0] for c in chunk)\n",
        "\n",
        "        # get rid of the duplicates\n",
        "        if string not in entities: \n",
        "          entities.append(string)\n",
        "\n",
        "  return entities"
      ],
      "execution_count": null,
      "outputs": []
    },
    {
      "cell_type": "markdown",
      "metadata": {
        "id": "KE5DwWHFVtHo"
      },
      "source": [
        "testing ner"
      ]
    },
    {
      "cell_type": "code",
      "metadata": {
        "colab": {
          "base_uri": "https://localhost:8080/"
        },
        "id": "Zfyshmc1Vrq5",
        "outputId": "5e2a8ee4-cf2e-4d1d-90ac-76028463aeef"
      },
      "source": [
        "print(ner_model(disney.loc[110,'Plot']))\n",
        "print(ner_model(disney.loc[101,'Plot']))\n",
        "print(ner_model(disney.loc[95,'Plot']))\n",
        "print(ner_model(disney.loc[118,'Plot']))\n",
        "print(ner_model(disney.loc[1,'Plot']))"
      ],
      "execution_count": null,
      "outputs": [
        {
          "output_type": "stream",
          "name": "stdout",
          "text": [
            "['Dory', 'Nemo', 'Marlin', 'Marine Life Institute']\n",
            "['Fearless', 'Anna', 'Kristoff', 'Sven', 'Elsa', 'Arendelle', 'Olaf']\n",
            "['Scotland', 'Princess Merida', 'Kelly Macdonald', 'Queen Elinor', 'Dame Emma Thompson', 'Merida']\n",
            "['Africa', 'Simba', 'Queen Sarabi', 'Mufasa', 'Nala', 'Scar']\n",
            "['Snow White', 'Magic Mirror', 'Doc', 'Sneezy', 'Grumpy', 'Happy', 'Bashful', 'Sleepy', 'Dopey']\n"
          ]
        }
      ]
    },
    {
      "cell_type": "markdown",
      "metadata": {
        "id": "Dy6Xtx-US2p0"
      },
      "source": [
        "**topic modeling**"
      ]
    },
    {
      "cell_type": "code",
      "metadata": {
        "id": "TQ_7jfqoS4vE"
      },
      "source": [
        "model = spacy.load('en_core_web_sm')"
      ],
      "execution_count": null,
      "outputs": []
    },
    {
      "cell_type": "code",
      "metadata": {
        "id": "ksepKBKJTNOC"
      },
      "source": [
        "# model that returns the major topics of a certain plot\n",
        "# this model only includes nouns, but it can be edited to include other parts of speech\n",
        "\n",
        "def topic_model(sentence):\n",
        "\n",
        "  # create the spacy model\n",
        "  doc = model(sentence)\n",
        "  pos_list = ['NOUN']\n",
        "\n",
        "  preproc_text = []\n",
        "  preproc_sent = []\n",
        "\n",
        "  for token in doc:\n",
        "    # if not end of sentence\n",
        "    if token.text != '.':\n",
        "      if not (token.is_stop) and not(token.is_punct) and token.pos_ in pos_list:\n",
        "        preproc_sent.append(token.lemma_)\n",
        "    else:\n",
        "      preproc_text.append(preproc_sent)\n",
        "      preproc_sent = []\n",
        "    \n",
        "  preproc_text.append(preproc_sent)\n",
        "\n",
        "  # get rid of empty lists\n",
        "  preproc_text = [x for x in preproc_text if x]\n",
        "\n",
        "  # create one master list of topics without duplicates\n",
        "  final_topics = []\n",
        "  for sent in preproc_text:\n",
        "    for word in sent:\n",
        "      if word not in final_topics:\n",
        "        final_topics.append(word)\n",
        "  \n",
        "  return final_topics"
      ],
      "execution_count": null,
      "outputs": []
    },
    {
      "cell_type": "markdown",
      "metadata": {
        "id": "ugB8HhQ5UMtl"
      },
      "source": [
        "topic modeling testing"
      ]
    },
    {
      "cell_type": "code",
      "metadata": {
        "colab": {
          "base_uri": "https://localhost:8080/"
        },
        "id": "6T_qUdlfUOK2",
        "outputId": "fffce870-faad-4b96-95a1-cabda5ea26aa"
      },
      "source": [
        "print(topic_model(disney.loc[101, 'Plot']))"
      ],
      "execution_count": null,
      "outputs": [
        {
          "output_type": "stream",
          "name": "stdout",
          "text": [
            "['optimist', 'team', 'mountain', 'man', 'reindeer', 'journey', 'sister', 'icy', 'power', 'kingdom', 'winter', 'condition', 'troll', 'snowman', 'battle', 'element', 'race', 'reality', 'fear', 'secret', 'ice', 'snow', 'ability', 'moment', 'magic', 'minute', 'emotion', 'monster']\n"
          ]
        }
      ]
    },
    {
      "cell_type": "markdown",
      "metadata": {
        "id": "bI1cqq1lXHN0"
      },
      "source": [
        "**word cloud**"
      ]
    },
    {
      "cell_type": "code",
      "metadata": {
        "id": "ZpRapI-bXIlb"
      },
      "source": [
        "# this creates a word cloud based on a given plot\n",
        "\n",
        "def create_word_cloud(text):\n",
        "  wordcloud = WordCloud(background_color=\"white\").generate(text)\n",
        "\n",
        "  plt.imshow(wordcloud, interpolation='bilinear')\n",
        "  plt.axis(\"off\")\n",
        "  plt.show()"
      ],
      "execution_count": null,
      "outputs": []
    },
    {
      "cell_type": "markdown",
      "metadata": {
        "id": "m4B1vYe-XifF"
      },
      "source": [
        "testing word cloud"
      ]
    },
    {
      "cell_type": "code",
      "metadata": {
        "colab": {
          "base_uri": "https://localhost:8080/",
          "height": 198
        },
        "id": "_3JlzQgpXjep",
        "outputId": "13f769ed-2c2f-4cfd-8e41-e0f016e563b9"
      },
      "source": [
        "text = disney.Plot[101]\n",
        "create_word_cloud(text)"
      ],
      "execution_count": null,
      "outputs": [
        {
          "output_type": "display_data",
          "data": {
            "image/png": "[encoded data removed]",
            "text/plain": [
              "<Figure size 432x288 with 1 Axes>"
            ]
          },
          "metadata": {
            "needs_background": "light"
          }
        }
      ]
    },
    {
      "cell_type": "markdown",
      "metadata": {
        "id": "acfCGwBlag-h"
      },
      "source": [
        "**year and decade**"
      ]
    },
    {
      "cell_type": "code",
      "metadata": {
        "id": "rHL1KcGnajhU"
      },
      "source": [
        "# returns the year of release\n",
        "def get_year(df, loc):\n",
        "  return df.Year[loc]"
      ],
      "execution_count": null,
      "outputs": []
    },
    {
      "cell_type": "code",
      "metadata": {
        "id": "xPr5LsAta3QS"
      },
      "source": [
        "# returns the decade of release\n",
        "def get_decade(df, loc):\n",
        "  year = get_year(df,loc)\n",
        "  return year - (year%10)"
      ],
      "execution_count": null,
      "outputs": []
    },
    {
      "cell_type": "markdown",
      "metadata": {
        "id": "9Y-ORvPzazTn"
      },
      "source": [
        "testing"
      ]
    },
    {
      "cell_type": "code",
      "metadata": {
        "colab": {
          "base_uri": "https://localhost:8080/"
        },
        "id": "lWAe1I0Ma0Nn",
        "outputId": "1127b6e5-97eb-47a7-9d6c-02874eb1c98f"
      },
      "source": [
        "print(get_year(disney, 101))\n",
        "print(get_decade(disney, 101))"
      ],
      "execution_count": null,
      "outputs": [
        {
          "output_type": "stream",
          "name": "stdout",
          "text": [
            "2013\n",
            "2010\n"
          ]
        }
      ]
    },
    {
      "cell_type": "markdown",
      "metadata": {
        "id": "a927ffZad4s-"
      },
      "source": [
        "**genre**"
      ]
    },
    {
      "cell_type": "code",
      "metadata": {
        "id": "Rxrb_iMTd6LY"
      },
      "source": [
        "# returns the genres of the movie in a stemmed form to help with comparison\n",
        "\n",
        "def get_genre(df, loc):\n",
        "  genre = df.Genre[loc]\n",
        "\n",
        "  # clean the text\n",
        "  genre = genre.lower()\n",
        "  genre = \"\".join([char for char in genre if char not in string.punctuation])\n",
        "  words = word_tokenize(genre)\n",
        "  porter = PorterStemmer()\n",
        "  stemmed = [porter.stem(word) for word in words]\n",
        "\n",
        "  # not lemma because then animated and animation don't come up with the same thing\n",
        "\n",
        "  return stemmed"
      ],
      "execution_count": null,
      "outputs": []
    },
    {
      "cell_type": "markdown",
      "metadata": {
        "id": "VIvoldfoeJuF"
      },
      "source": [
        "testing"
      ]
    },
    {
      "cell_type": "code",
      "metadata": {
        "colab": {
          "base_uri": "https://localhost:8080/"
        },
        "id": "RmlxrNc2eIEM",
        "outputId": "24af3121-5f24-4689-de94-69708c2cf832"
      },
      "source": [
        "print(get_genre(disney, 101))"
      ],
      "execution_count": null,
      "outputs": [
        {
          "output_type": "stream",
          "name": "stdout",
          "text": [
            "['anim', 'adventur', 'comedi']\n"
          ]
        }
      ]
    },
    {
      "cell_type": "markdown",
      "metadata": {
        "id": "NK2iSuzyjgKy"
      },
      "source": [
        "**actors**"
      ]
    },
    {
      "cell_type": "code",
      "metadata": {
        "id": "Jgw5ILFwjhJN"
      },
      "source": [
        "# returns the list of actors\n",
        "\n",
        "def get_actors(df, loc):\n",
        "  actor = df.Actors[loc]\n",
        "\n",
        "  # clean the text\n",
        "  actor = actor.lower()\n",
        "  actors = re.split(r'[.,]', actor)\n",
        "\n",
        "  final_actors = []\n",
        "  for actor in actors:\n",
        "    # get rid of leading whitespace\n",
        "    final_actors.append(actor.lstrip())\n",
        "\n",
        "  return final_actors"
      ],
      "execution_count": null,
      "outputs": []
    },
    {
      "cell_type": "markdown",
      "metadata": {
        "id": "pJ0lqhiWj0Dl"
      },
      "source": [
        "testing"
      ]
    },
    {
      "cell_type": "code",
      "metadata": {
        "colab": {
          "base_uri": "https://localhost:8080/"
        },
        "id": "5qOAy0Qjj0l3",
        "outputId": "1876466b-1abf-4817-dbef-246e0b5f11e4"
      },
      "source": [
        "print(get_actors(disney, 101))"
      ],
      "execution_count": null,
      "outputs": [
        {
          "output_type": "stream",
          "name": "stdout",
          "text": [
            "['kristen bell', 'idina menzel', 'jonathan groff']\n"
          ]
        }
      ]
    },
    {
      "cell_type": "markdown",
      "metadata": {
        "id": "HkNRJs0nklr3"
      },
      "source": [
        "**directors**"
      ]
    },
    {
      "cell_type": "code",
      "metadata": {
        "id": "k9Sv92dnkm2e"
      },
      "source": [
        "# returns the director(s)\n",
        "\n",
        "def get_directors(df, loc):\n",
        "  director = df.Director[loc]\n",
        "\n",
        "  # clean the text\n",
        "  director = director.lower()\n",
        "  directors = re.split(r'[.,]', director)\n",
        "\n",
        "  final_directors = []\n",
        "  for director in directors:\n",
        "    # get rid of leading or trailing whitespace\n",
        "    final_directors.append(director.lstrip())\n",
        "\n",
        "  return final_directors"
      ],
      "execution_count": null,
      "outputs": []
    },
    {
      "cell_type": "markdown",
      "metadata": {
        "id": "4QOhf-JQmC4v"
      },
      "source": [
        "testing"
      ]
    },
    {
      "cell_type": "code",
      "metadata": {
        "colab": {
          "base_uri": "https://localhost:8080/"
        },
        "id": "lWROFtpXkov0",
        "outputId": "2246d7ee-e786-4455-b775-a37132d54c3a"
      },
      "source": [
        "print(get_directors(disney, 101))\n",
        "print(get_directors(disney,0))"
      ],
      "execution_count": null,
      "outputs": [
        {
          "output_type": "stream",
          "name": "stdout",
          "text": [
            "['chris buck', 'jennifer lee']\n",
            "['n/a']\n"
          ]
        }
      ]
    },
    {
      "cell_type": "markdown",
      "metadata": {
        "id": "agpS1uavl2VC"
      },
      "source": [
        "**production**"
      ]
    },
    {
      "cell_type": "code",
      "metadata": {
        "id": "cf2Mpw8Nl3eI"
      },
      "source": [
        "# returns the production studio in a list of tokenized words\n",
        "\n",
        "def get_production(df, loc):\n",
        "  production = df.Production[loc]\n",
        "\n",
        "  # clean the text\n",
        "  production = production.lower()\n",
        "  production = \"\".join([char for char in production if char not in string.punctuation])\n",
        "  production = word_tokenize(production)\n",
        "\n",
        "  return production"
      ],
      "execution_count": null,
      "outputs": []
    },
    {
      "cell_type": "markdown",
      "metadata": {
        "id": "r_sSnyX8mBi5"
      },
      "source": [
        "testing"
      ]
    },
    {
      "cell_type": "code",
      "metadata": {
        "colab": {
          "base_uri": "https://localhost:8080/"
        },
        "id": "J2Z2ZSyfmCjE",
        "outputId": "6616c81e-795c-448c-94e4-b850aebe3896"
      },
      "source": [
        "print(get_production(disney, 4))\n",
        "print(get_production(disney, 101))"
      ],
      "execution_count": null,
      "outputs": [
        {
          "output_type": "stream",
          "name": "stdout",
          "text": [
            "['walt', 'disney', 'productions']\n",
            "['na']\n"
          ]
        }
      ]
    },
    {
      "cell_type": "markdown",
      "metadata": {
        "id": "z6PPGQi8xKrE"
      },
      "source": [
        "**tfidf**"
      ]
    },
    {
      "cell_type": "code",
      "metadata": {
        "id": "pfkhufIlxIz5"
      },
      "source": [
        "# get the tfidf vector for a specific plot\n",
        "\n",
        "def get_tfidf(df, loc):\n",
        "  vectorizer = TfidfVectorizer()\n",
        "  X = vectorizer.fit_transform(df['Plot'])\n",
        "  return X[loc]"
      ],
      "execution_count": null,
      "outputs": []
    },
    {
      "cell_type": "markdown",
      "metadata": {
        "id": "3Xwzkj9mzJ-n"
      },
      "source": [
        "although this next part is more on the side of implementation, it is necessary for testing the previous code"
      ]
    },
    {
      "cell_type": "code",
      "metadata": {
        "id": "fEIdBm31yeHs"
      },
      "source": [
        "# find the cosine similarity between a certain query and all possible plots\n",
        "\n",
        "def cosine_sim(df, query):\n",
        "  vectorizer = TfidfVectorizer()\n",
        "  X = vectorizer.fit_transform(df['Plot'])\n",
        "  query_vector = vectorizer.transform([query])\n",
        "  results = cosine_similarity(X,query_vector)\n",
        "\n",
        "  return results"
      ],
      "execution_count": null,
      "outputs": []
    },
    {
      "cell_type": "code",
      "metadata": {
        "id": "fokB8YoKy7yz"
      },
      "source": [
        "# find the plot with the highest similarity to the query\n",
        "\n",
        "def find_highest_cos_sim(results):\n",
        "  i = 0\n",
        "  current_largest = 0\n",
        "  index_largest = 0\n",
        "  for result in results:\n",
        "    if result[0] > current_largest:\n",
        "      index_largest = i\n",
        "      current_largest = result[0]\n",
        "    i += 1\n",
        "  return index_largest"
      ],
      "execution_count": null,
      "outputs": []
    },
    {
      "cell_type": "markdown",
      "metadata": {
        "id": "8XQedQzAyR_A"
      },
      "source": [
        "testing"
      ]
    },
    {
      "cell_type": "code",
      "metadata": {
        "colab": {
          "base_uri": "https://localhost:8080/"
        },
        "id": "a3IXXjiaySdc",
        "outputId": "372f957e-1f0f-4c77-d864-1b97e87b9739"
      },
      "source": [
        "frozen_vec = get_tfidf(disney,101)\n",
        "query = 'olaf princess monster mountain sister'\n",
        "results = cosine_sim(disney, query)\n",
        "index_largest = find_highest_cos_sim(results)\n",
        "\n",
        "print(disney.Title[index_largest])"
      ],
      "execution_count": null,
      "outputs": [
        {
          "output_type": "stream",
          "name": "stdout",
          "text": [
            "Frozen\n"
          ]
        }
      ]
    },
    {
      "cell_type": "markdown",
      "metadata": {
        "id": "9D6GYcwczcvy"
      },
      "source": [
        "**output**"
      ]
    },
    {
      "cell_type": "code",
      "metadata": {
        "id": "4_Tnnd2rz2WW"
      },
      "source": [
        "# create the output row for a given movie\n",
        "\n",
        "def get_row(df, loc):\n",
        "  row = [df.Title[loc], get_year(df, loc), get_decade(df, loc), get_genre(df, loc), get_actors(df, loc), ner_model(df.Plot[loc]), get_directors(df,loc), topic_model(df.Plot[loc]), get_tfidf(df, loc), get_production(df, loc)]\n",
        "  return row"
      ],
      "execution_count": null,
      "outputs": []
    },
    {
      "cell_type": "code",
      "metadata": {
        "id": "vwurzRB03k4I"
      },
      "source": [
        "# create the final output dataframe that will then be used to implement the search algorithm\n",
        "\n",
        "def create_output(df):\n",
        "  rows = []\n",
        "  for index, row in df.iterrows():\n",
        "    rows.append(get_row(df, index))\n",
        "  final_dataframe = pd.DataFrame(rows, columns=[\"title\", \"year\", \"decade\", \"genre\", \"actors\", \"named entities\", \"director\", \"plot topics\", \"tfidf vector\", \"production\"])\n",
        "  return final_dataframe"
      ],
      "execution_count": null,
      "outputs": []
    },
    {
      "cell_type": "markdown",
      "metadata": {
        "id": "dbqgDW2b3nAg"
      },
      "source": [
        "testing"
      ]
    },
    {
      "cell_type": "code",
      "metadata": {
        "colab": {
          "base_uri": "https://localhost:8080/",
          "height": 408
        },
        "id": "9_KBIgQ-3ngH",
        "outputId": "61a42ff2-f7d6-4094-8b1e-1a37ec81ee5b"
      },
      "source": [
        "df = create_output(disney)\n",
        "df.head()"
      ],
      "execution_count": null,
      "outputs": [
        {
          "output_type": "execute_result",
          "data": {
            "text/html": [
              "<div>\n",
              "<style scoped>\n",
              "    .dataframe tbody tr th:only-of-type {\n",
              "        vertical-align: middle;\n",
              "    }\n",
              "\n",
              "    .dataframe tbody tr th {\n",
              "        vertical-align: top;\n",
              "    }\n",
              "\n",
              "    .dataframe thead th {\n",
              "        text-align: right;\n",
              "    }\n",
              "</style>\n",
              "<table border=\"1\" class=\"dataframe\">\n",
              "  <thead>\n",
              "    <tr style=\"text-align: right;\">\n",
              "      <th></th>\n",
              "      <th>title</th>\n",
              "      <th>year</th>\n",
              "      <th>decade</th>\n",
              "      <th>genre</th>\n",
              "      <th>actors</th>\n",
              "      <th>named entities</th>\n",
              "      <th>director</th>\n",
              "      <th>plot topics</th>\n",
              "      <th>tfidf vector</th>\n",
              "      <th>production</th>\n",
              "    </tr>\n",
              "  </thead>\n",
              "  <tbody>\n",
              "    <tr>\n",
              "      <th>0</th>\n",
              "      <td>Academy Award Review of Walt Disney Cartoons</td>\n",
              "      <td>1937</td>\n",
              "      <td>1930</td>\n",
              "      <td>[anim, short, comedi]</td>\n",
              "      <td>[billy bletcher, dorothy compton, eddie holden]</td>\n",
              "      <td>[Disney, Snow White, Seven Dwarfs]</td>\n",
              "      <td>[n/a]</td>\n",
              "      <td>[compilation, short, release]</td>\n",
              "      <td>(0, 8)\\t0.26253361164209704\\n  (0, 863)\\t0.2...</td>\n",
              "      <td>[na]</td>\n",
              "    </tr>\n",
              "    <tr>\n",
              "      <th>1</th>\n",
              "      <td>Snow White and the Seven Dwarfs</td>\n",
              "      <td>1937</td>\n",
              "      <td>1930</td>\n",
              "      <td>[anim, famili, fantasi]</td>\n",
              "      <td>[adriana caselotti, harry stockwell, lucille l...</td>\n",
              "      <td>[Snow White, Magic Mirror, Doc, Sneezy, Grumpy...</td>\n",
              "      <td>[william cottrell, david hand, wilfred jackson]</td>\n",
              "      <td>[charm, creature, kingdom, stepmother, forest,...</td>\n",
              "      <td>(0, 226)\\t0.13579487920663044\\n  (0, 449)\\t0...</td>\n",
              "      <td>[na]</td>\n",
              "    </tr>\n",
              "    <tr>\n",
              "      <th>2</th>\n",
              "      <td>Pinocchio</td>\n",
              "      <td>1940</td>\n",
              "      <td>1940</td>\n",
              "      <td>[anim, adventur, comedi]</td>\n",
              "      <td>[dickie jones, christian rub, mel blanc]</td>\n",
              "      <td>[Inventor, Gepetto, Pinocchio, Jiminy Cricket,...</td>\n",
              "      <td>[norman ferguson, t, hee, wilfred jackson]</td>\n",
              "      <td>[marionette, wish, boy, fairy, conscience, tro...</td>\n",
              "      <td>(0, 2707)\\t0.14607432597135594\\n  (0, 1067)\\...</td>\n",
              "      <td>[walt, disney, productions]</td>\n",
              "    </tr>\n",
              "    <tr>\n",
              "      <th>3</th>\n",
              "      <td>Fantasia</td>\n",
              "      <td>1940</td>\n",
              "      <td>1940</td>\n",
              "      <td>[anim, famili, fantasi]</td>\n",
              "      <td>[leopold stokowski, deems taylor, the philadel...</td>\n",
              "      <td>[Disney, Western, Leopold Stokowski, Philadelp...</td>\n",
              "      <td>[james algar, samuel armstrong, ford beebe jr, ]</td>\n",
              "      <td>[animator, picture, music, magician, limit, st...</td>\n",
              "      <td>(0, 718)\\t0.07697953789902512\\n  (0, 1977)\\t...</td>\n",
              "      <td>[na]</td>\n",
              "    </tr>\n",
              "    <tr>\n",
              "      <th>4</th>\n",
              "      <td>The Reluctant Dragon</td>\n",
              "      <td>1941</td>\n",
              "      <td>1940</td>\n",
              "      <td>[anim, comedi, famili]</td>\n",
              "      <td>[robert benchley, frances gifford, buddy pepper]</td>\n",
              "      <td>[Humorist, Robert Benchley, Walt Disney, Walt ...</td>\n",
              "      <td>[alfred l, werker, hamilton luske, jack cutting]</td>\n",
              "      <td>[story, dragon, poetry, way, tour, animation, ...</td>\n",
              "      <td>(0, 2257)\\t0.17626133935877134\\n  (0, 139)\\t...</td>\n",
              "      <td>[walt, disney, productions]</td>\n",
              "    </tr>\n",
              "  </tbody>\n",
              "</table>\n",
              "</div>"
            ],
            "text/plain": [
              "                                          title  ...                   production\n",
              "0  Academy Award Review of Walt Disney Cartoons  ...                         [na]\n",
              "1               Snow White and the Seven Dwarfs  ...                         [na]\n",
              "2                                     Pinocchio  ...  [walt, disney, productions]\n",
              "3                                      Fantasia  ...                         [na]\n",
              "4                          The Reluctant Dragon  ...  [walt, disney, productions]\n",
              "\n",
              "[5 rows x 10 columns]"
            ]
          },
          "metadata": {},
          "execution_count": 33
        }
      ]
    },
    {
      "cell_type": "code",
      "metadata": {
        "colab": {
          "base_uri": "https://localhost:8080/",
          "height": 374
        },
        "id": "uh6SZObz7P-k",
        "outputId": "a66504a1-00b3-4d79-89da-972fbf2825e8"
      },
      "source": [
        "marvel_output = create_output(marvel)\n",
        "marvel_output.head()"
      ],
      "execution_count": null,
      "outputs": [
        {
          "output_type": "execute_result",
          "data": {
            "text/html": [
              "<div>\n",
              "<style scoped>\n",
              "    .dataframe tbody tr th:only-of-type {\n",
              "        vertical-align: middle;\n",
              "    }\n",
              "\n",
              "    .dataframe tbody tr th {\n",
              "        vertical-align: top;\n",
              "    }\n",
              "\n",
              "    .dataframe thead th {\n",
              "        text-align: right;\n",
              "    }\n",
              "</style>\n",
              "<table border=\"1\" class=\"dataframe\">\n",
              "  <thead>\n",
              "    <tr style=\"text-align: right;\">\n",
              "      <th></th>\n",
              "      <th>title</th>\n",
              "      <th>year</th>\n",
              "      <th>decade</th>\n",
              "      <th>genre</th>\n",
              "      <th>actors</th>\n",
              "      <th>named entities</th>\n",
              "      <th>director</th>\n",
              "      <th>plot topics</th>\n",
              "      <th>tfidf vector</th>\n",
              "      <th>production</th>\n",
              "    </tr>\n",
              "  </thead>\n",
              "  <tbody>\n",
              "    <tr>\n",
              "      <th>0</th>\n",
              "      <td>Iron Man</td>\n",
              "      <td>2008</td>\n",
              "      <td>2000</td>\n",
              "      <td>[action, adventur, scifi]</td>\n",
              "      <td>[robert downey jr, , gwyneth paltrow, terrence...</td>\n",
              "      <td>[Tony, Stark, Genius, Son, Howard Stark, Tony ...</td>\n",
              "      <td>[jon favreau]</td>\n",
              "      <td>[genius, billionaire, playboy, philanthropist,...</td>\n",
              "      <td>(0, 480)\\t0.0849488237183066\\n  (0, 546)\\t0....</td>\n",
              "      <td>[na]</td>\n",
              "    </tr>\n",
              "    <tr>\n",
              "      <th>1</th>\n",
              "      <td>The Incredible Hulk</td>\n",
              "      <td>2008</td>\n",
              "      <td>2000</td>\n",
              "      <td>[action, adventur, scifi]</td>\n",
              "      <td>[edward norton, liv tyler, tim roth]</td>\n",
              "      <td>[Gamma Bomb, Incredible Hulk, Bruce Banner, Wh...</td>\n",
              "      <td>[louis leterrier]</td>\n",
              "      <td>[event, story, cure, condition, monster, stres...</td>\n",
              "      <td>(0, 5)\\t0.14475904893624333\\n  (0, 251)\\t0.1...</td>\n",
              "      <td>[na]</td>\n",
              "    </tr>\n",
              "    <tr>\n",
              "      <th>2</th>\n",
              "      <td>Iron Man 2</td>\n",
              "      <td>2010</td>\n",
              "      <td>2010</td>\n",
              "      <td>[action, adventur, scifi]</td>\n",
              "      <td>[robert downey jr, , mickey rourke, gwyneth pa...</td>\n",
              "      <td>[Iron Man, Tony Stark, Stark, Pepper Potts, Ja...</td>\n",
              "      <td>[jon favreau]</td>\n",
              "      <td>[world, life, superhero, billionaire, inventor...</td>\n",
              "      <td>(0, 254)\\t0.13951498897824108\\n  (0, 580)\\t0...</td>\n",
              "      <td>[na]</td>\n",
              "    </tr>\n",
              "    <tr>\n",
              "      <th>3</th>\n",
              "      <td>Thor</td>\n",
              "      <td>2011</td>\n",
              "      <td>2010</td>\n",
              "      <td>[action, adventur, fantasi]</td>\n",
              "      <td>[chris hemsworth, anthony hopkins, natalie por...</td>\n",
              "      <td>[Chris Hemsworth, Asgard, Odin, Sir Anthony Ho...</td>\n",
              "      <td>[kenneth branagh]</td>\n",
              "      <td>[warrior, realm, father, arrogance, human, lov...</td>\n",
              "      <td>(0, 776)\\t0.15241124601701905\\n  (0, 305)\\t0...</td>\n",
              "      <td>[na]</td>\n",
              "    </tr>\n",
              "    <tr>\n",
              "      <th>4</th>\n",
              "      <td>Captain America: The First Avenger</td>\n",
              "      <td>2011</td>\n",
              "      <td>2010</td>\n",
              "      <td>[action, adventur, scifi]</td>\n",
              "      <td>[chris evans, hugo weaving, samuel l, jackson]</td>\n",
              "      <td>[America, Steve Rogers, Rogers, Nazi Germany, ...</td>\n",
              "      <td>[joe johnston]</td>\n",
              "      <td>[sickly, service, change, courage, wit, consci...</td>\n",
              "      <td>(0, 21)\\t0.06665490114181342\\n  (0, 129)\\t0....</td>\n",
              "      <td>[na]</td>\n",
              "    </tr>\n",
              "  </tbody>\n",
              "</table>\n",
              "</div>"
            ],
            "text/plain": [
              "                                title  ...  production\n",
              "0                            Iron Man  ...        [na]\n",
              "1                 The Incredible Hulk  ...        [na]\n",
              "2                          Iron Man 2  ...        [na]\n",
              "3                                Thor  ...        [na]\n",
              "4  Captain America: The First Avenger  ...        [na]\n",
              "\n",
              "[5 rows x 10 columns]"
            ]
          },
          "metadata": {},
          "execution_count": 35
        }
      ]
    }
  ]
}